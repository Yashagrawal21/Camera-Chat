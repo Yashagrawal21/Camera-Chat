{
 "cells": [
  {
   "cell_type": "markdown",
   "id": "73a688a1",
   "metadata": {
    "papermill": {
     "duration": 0.007672,
     "end_time": "2022-10-06T09:00:26.618542",
     "exception": false,
     "start_time": "2022-10-06T09:00:26.610870",
     "status": "completed"
    },
    "tags": []
   },
   "source": [
    "**This notebook is an exercise in the [Python](https://www.kaggle.com/learn/python) course.  You can reference the tutorial at [this link](https://www.kaggle.com/colinmorris/hello-python).**\n",
    "\n",
    "---\n"
   ]
  },
  {
   "cell_type": "markdown",
   "id": "eedc03a6",
   "metadata": {
    "papermill": {
     "duration": 0.006058,
     "end_time": "2022-10-06T09:00:26.631358",
     "exception": false,
     "start_time": "2022-10-06T09:00:26.625300",
     "status": "completed"
    },
    "tags": []
   },
   "source": [
    "Welcome to your first set of Python coding problems.  If this is your first time using Kaggle Notebooks, welcome! \n",
    "\n",
    "Notebooks are composed of blocks (called \"cells\") of text and code. Each of these is editable, though you'll mainly be editing the code cells to answer some questions.\n",
    "\n",
    "To get started, try running the code cell below (by pressing the ► button, or clicking on the cell and pressing ctrl+enter on your keyboard)."
   ]
  },
  {
   "cell_type": "code",
   "execution_count": 1,
   "id": "abe6bf6a",
   "metadata": {
    "execution": {
     "iopub.execute_input": "2022-10-06T09:00:26.646701Z",
     "iopub.status.busy": "2022-10-06T09:00:26.645311Z",
     "iopub.status.idle": "2022-10-06T09:00:26.659681Z",
     "shell.execute_reply": "2022-10-06T09:00:26.658345Z"
    },
    "papermill": {
     "duration": 0.025331,
     "end_time": "2022-10-06T09:00:26.662970",
     "exception": false,
     "start_time": "2022-10-06T09:00:26.637639",
     "status": "completed"
    },
    "tags": []
   },
   "outputs": [
    {
     "name": "stdout",
     "output_type": "stream",
     "text": [
      "You've successfully run some Python code\n",
      "Congratulations!\n"
     ]
    }
   ],
   "source": [
    "print(\"You've successfully run some Python code\")\n",
    "print(\"Congratulations!\")"
   ]
  },
  {
   "cell_type": "markdown",
   "id": "c6b27f5c",
   "metadata": {
    "papermill": {
     "duration": 0.008391,
     "end_time": "2022-10-06T09:00:26.678778",
     "exception": false,
     "start_time": "2022-10-06T09:00:26.670387",
     "status": "completed"
    },
    "tags": []
   },
   "source": [
    "Try adding another line of code in the cell above and re-running it. \n",
    "\n",
    "Now let's get a little fancier:  Add a new code cell by clicking on an existing code cell, hitting the escape key, and then hitting the `a` or `b` key.  The `a` key will add a cell above the current cell, and `b` adds a cell below.\n",
    "\n",
    "Great! Now you know how to use Notebooks.\n",
    "\n",
    "Each hands-on exercise starts by setting up our feedback and code checking mechanism. Run the code cell below to do that. Then you'll be ready to move on to question 0."
   ]
  },
  {
   "cell_type": "code",
   "execution_count": 2,
   "id": "f35c9927",
   "metadata": {
    "_kg_hide-input": true,
    "_kg_hide-output": true,
    "execution": {
     "iopub.execute_input": "2022-10-06T09:00:26.695331Z",
     "iopub.status.busy": "2022-10-06T09:00:26.694149Z",
     "iopub.status.idle": "2022-10-06T09:00:26.745942Z",
     "shell.execute_reply": "2022-10-06T09:00:26.744450Z"
    },
    "papermill": {
     "duration": 0.062894,
     "end_time": "2022-10-06T09:00:26.748315",
     "exception": false,
     "start_time": "2022-10-06T09:00:26.685421",
     "status": "completed"
    },
    "tags": []
   },
   "outputs": [
    {
     "name": "stdout",
     "output_type": "stream",
     "text": [
      "Setup complete! You're ready to start question 0.\n"
     ]
    }
   ],
   "source": [
    "from learntools.core import binder; binder.bind(globals())\n",
    "from learntools.python.ex1 import *\n",
    "print(\"Setup complete! You're ready to start question 0.\")"
   ]
  },
  {
   "cell_type": "markdown",
   "id": "15dceec3",
   "metadata": {
    "papermill": {
     "duration": 0.006473,
     "end_time": "2022-10-06T09:00:26.761331",
     "exception": false,
     "start_time": "2022-10-06T09:00:26.754858",
     "status": "completed"
    },
    "tags": []
   },
   "source": [
    "# 0.\n",
    "\n",
    "*This is a silly question intended as an introduction to the format we use for hands-on exercises throughout all Kaggle courses.*\n",
    "\n",
    "**What is your favorite color? **\n",
    "\n",
    "To complete this question, create a variable called `color` in the cell below with an appropriate value. The function call `q0.check()` (which we've already provided in the cell below) will check your answer."
   ]
  },
  {
   "cell_type": "code",
   "execution_count": 3,
   "id": "05ba6d86",
   "metadata": {
    "execution": {
     "iopub.execute_input": "2022-10-06T09:00:26.776857Z",
     "iopub.status.busy": "2022-10-06T09:00:26.775834Z",
     "iopub.status.idle": "2022-10-06T09:00:26.787904Z",
     "shell.execute_reply": "2022-10-06T09:00:26.786744Z"
    },
    "papermill": {
     "duration": 0.022746,
     "end_time": "2022-10-06T09:00:26.790637",
     "exception": false,
     "start_time": "2022-10-06T09:00:26.767891",
     "status": "completed"
    },
    "tags": []
   },
   "outputs": [
    {
     "data": {
      "application/javascript": [
       "parent.postMessage({\"jupyterEvent\": \"custom.exercise_interaction\", \"data\": {\"outcomeType\": 1, \"valueTowardsCompletion\": 0.25, \"interactionType\": 1, \"questionType\": 2, \"questionId\": \"0_ExerciseFormatTutorial\", \"learnToolsVersion\": \"0.3.4\", \"failureMessage\": \"\", \"exceptionClass\": \"\", \"trace\": \"\"}}, \"*\")"
      ],
      "text/plain": [
       "<IPython.core.display.Javascript object>"
      ]
     },
     "metadata": {},
     "output_type": "display_data"
    },
    {
     "data": {
      "text/markdown": [
       "<span style=\"color:#33cc33\">Correct:</span> What?! You got it right without needing a hint or anything? Drats. Well hey, you should still continue to the next step to get some practice asking for a hint and checking solutions. (Even though you obviously don't need any help here.)"
      ],
      "text/plain": [
       "Correct: What?! You got it right without needing a hint or anything? Drats. Well hey, you should still continue to the next step to get some practice asking for a hint and checking solutions. (Even though you obviously don't need any help here.)"
      ]
     },
     "metadata": {},
     "output_type": "display_data"
    }
   ],
   "source": [
    "# create a variable called color with an appropriate value on the line below\n",
    "# (Remember, strings in Python must be enclosed in 'single' or \"double\" quotes)\n",
    "color = 'blue'\n",
    "# Check your answer\n",
    "q0.check()"
   ]
  },
  {
   "cell_type": "markdown",
   "id": "5dff7cf6",
   "metadata": {
    "papermill": {
     "duration": 0.006663,
     "end_time": "2022-10-06T09:00:26.804072",
     "exception": false,
     "start_time": "2022-10-06T09:00:26.797409",
     "status": "completed"
    },
    "tags": []
   },
   "source": [
    "Didn't get the right answer? How do you not even know your own favorite color?!\n",
    "\n",
    "Delete the `#` in the line below to make one of the lines run. You can choose between getting a hint or the full answer by choosing which line to remove the `#` from. \n",
    "\n",
    "Removing the `#` is called uncommenting, because it changes that line from a \"comment\" which Python doesn't run to code, which Python does run."
   ]
  },
  {
   "cell_type": "code",
   "execution_count": 4,
   "id": "5879eadf",
   "metadata": {
    "execution": {
     "iopub.execute_input": "2022-10-06T09:00:26.822741Z",
     "iopub.status.busy": "2022-10-06T09:00:26.821948Z",
     "iopub.status.idle": "2022-10-06T09:00:26.827695Z",
     "shell.execute_reply": "2022-10-06T09:00:26.826460Z"
    },
    "papermill": {
     "duration": 0.020071,
     "end_time": "2022-10-06T09:00:26.831110",
     "exception": false,
     "start_time": "2022-10-06T09:00:26.811039",
     "status": "completed"
    },
    "tags": []
   },
   "outputs": [],
   "source": [
    "#q0.hint()\n",
    "#q0.solution()\n"
   ]
  },
  {
   "cell_type": "markdown",
   "id": "dc506c2c",
   "metadata": {
    "papermill": {
     "duration": 0.009645,
     "end_time": "2022-10-06T09:00:26.849893",
     "exception": false,
     "start_time": "2022-10-06T09:00:26.840248",
     "status": "completed"
    },
    "tags": []
   },
   "source": [
    "The upcoming questions work the same way. The only thing that will change are the question numbers. For the next question, you'll call `q1.check()`, `q1.hint()`, `q1.solution()`, for question 2, you'll call `q2.check()`, and so on."
   ]
  },
  {
   "cell_type": "markdown",
   "id": "2cca8170",
   "metadata": {
    "papermill": {
     "duration": 0.006937,
     "end_time": "2022-10-06T09:00:26.868184",
     "exception": false,
     "start_time": "2022-10-06T09:00:26.861247",
     "status": "completed"
    },
    "tags": []
   },
   "source": [
    "<hr/>\n",
    "\n",
    "# 1.\n",
    "\n",
    "Complete the code below. In case it's helpful, here is the table of available arithmetic operations:\n",
    "\n",
    "\n",
    "\n",
    "| Operator     | Name           | Description                                            |\n",
    "|--------------|----------------|--------------------------------------------------------|\n",
    "| ``a + b``    | Addition       | Sum of ``a`` and ``b``                                 |\n",
    "| ``a - b``    | Subtraction    | Difference of ``a`` and ``b``                          |\n",
    "| ``a * b``    | Multiplication | Product of ``a`` and ``b``                             |\n",
    "| ``a / b``    | True division  | Quotient of ``a`` and ``b``                            |\n",
    "| ``a // b``   | Floor division | Quotient of ``a`` and ``b``, removing fractional parts |\n",
    "| ``a % b``    | Modulus        | Integer remainder after division of ``a`` by ``b``     |\n",
    "| ``a ** b``   | Exponentiation | ``a`` raised to the power of ``b``                     |\n",
    "| ``-a``       | Negation       | The negative of ``a``                                  |\n",
    "\n",
    "<span style=\"display:none\"></span>\n"
   ]
  },
  {
   "cell_type": "code",
   "execution_count": 5,
   "id": "c3369733",
   "metadata": {
    "execution": {
     "iopub.execute_input": "2022-10-06T09:00:26.886548Z",
     "iopub.status.busy": "2022-10-06T09:00:26.885599Z",
     "iopub.status.idle": "2022-10-06T09:00:26.895979Z",
     "shell.execute_reply": "2022-10-06T09:00:26.894907Z"
    },
    "papermill": {
     "duration": 0.021371,
     "end_time": "2022-10-06T09:00:26.898121",
     "exception": false,
     "start_time": "2022-10-06T09:00:26.876750",
     "status": "completed"
    },
    "tags": []
   },
   "outputs": [
    {
     "data": {
      "application/javascript": [
       "parent.postMessage({\"jupyterEvent\": \"custom.exercise_interaction\", \"data\": {\"outcomeType\": 1, \"valueTowardsCompletion\": 0.25, \"interactionType\": 1, \"questionType\": 1, \"questionId\": \"1_CircleArea\", \"learnToolsVersion\": \"0.3.4\", \"failureMessage\": \"\", \"exceptionClass\": \"\", \"trace\": \"\"}}, \"*\")"
      ],
      "text/plain": [
       "<IPython.core.display.Javascript object>"
      ]
     },
     "metadata": {},
     "output_type": "display_data"
    },
    {
     "data": {
      "text/markdown": [
       "<span style=\"color:#33cc33\">Correct</span>"
      ],
      "text/plain": [
       "Correct"
      ]
     },
     "metadata": {},
     "output_type": "display_data"
    }
   ],
   "source": [
    "pi = 3.14159 # approximate\n",
    "diameter = 3\n",
    "\n",
    "# Create a variable called 'radius' equal to half the diameter\n",
    "radius = diameter/2\n",
    "\n",
    "# Create a variable called 'area', using the formula for the area of a circle: pi times the radius squared\n",
    "area = pi * radius * radius\n",
    "\n",
    "# Check your answer\n",
    "q1.check()"
   ]
  },
  {
   "cell_type": "code",
   "execution_count": 6,
   "id": "f8808bc7",
   "metadata": {
    "execution": {
     "iopub.execute_input": "2022-10-06T09:00:26.914595Z",
     "iopub.status.busy": "2022-10-06T09:00:26.913658Z",
     "iopub.status.idle": "2022-10-06T09:00:26.918170Z",
     "shell.execute_reply": "2022-10-06T09:00:26.917330Z"
    },
    "papermill": {
     "duration": 0.015284,
     "end_time": "2022-10-06T09:00:26.920397",
     "exception": false,
     "start_time": "2022-10-06T09:00:26.905113",
     "status": "completed"
    },
    "tags": []
   },
   "outputs": [],
   "source": [
    "# Uncomment and run the lines below if you need help.\n",
    "#q1.hint()\n",
    "#q1.solution()"
   ]
  },
  {
   "cell_type": "markdown",
   "id": "59e4294e",
   "metadata": {
    "papermill": {
     "duration": 0.006765,
     "end_time": "2022-10-06T09:00:26.934285",
     "exception": false,
     "start_time": "2022-10-06T09:00:26.927520",
     "status": "completed"
    },
    "tags": []
   },
   "source": [
    "<hr/>\n",
    "\n",
    "# 2.\n",
    "\n",
    "Add code to the following cell to swap variables `a` and `b` (so that `a` refers to the object previously referred to by `b` and vice versa)."
   ]
  },
  {
   "cell_type": "code",
   "execution_count": 7,
   "id": "b48c440a",
   "metadata": {
    "execution": {
     "iopub.execute_input": "2022-10-06T09:00:26.952725Z",
     "iopub.status.busy": "2022-10-06T09:00:26.951952Z",
     "iopub.status.idle": "2022-10-06T09:00:26.960848Z",
     "shell.execute_reply": "2022-10-06T09:00:26.959836Z"
    },
    "papermill": {
     "duration": 0.019591,
     "end_time": "2022-10-06T09:00:26.963094",
     "exception": false,
     "start_time": "2022-10-06T09:00:26.943503",
     "status": "completed"
    },
    "tags": []
   },
   "outputs": [
    {
     "data": {
      "application/javascript": [
       "parent.postMessage({\"jupyterEvent\": \"custom.exercise_interaction\", \"data\": {\"outcomeType\": 1, \"valueTowardsCompletion\": 0.25, \"interactionType\": 1, \"questionType\": 2, \"questionId\": \"2_VariableSwap\", \"learnToolsVersion\": \"0.3.4\", \"failureMessage\": \"\", \"exceptionClass\": \"\", \"trace\": \"\"}}, \"*\")"
      ],
      "text/plain": [
       "<IPython.core.display.Javascript object>"
      ]
     },
     "metadata": {},
     "output_type": "display_data"
    },
    {
     "data": {
      "text/markdown": [
       "<span style=\"color:#33cc33\">Correct:</span> \n",
       "\n",
       "The most straightforward solution is to use a third variable to temporarily store one of the old values. e.g.:\n",
       "\n",
       "    tmp = a\n",
       "    a = b\n",
       "    b = tmp\n",
       "\n",
       "If you've read lots of Python code, you might have seen the following trick to swap two variables in one line:\n",
       "\n",
       "    a, b = b, a\n",
       "\n",
       "We'll demystify this bit of Python magic later when we talk about *tuples*."
      ],
      "text/plain": [
       "Correct: \n",
       "\n",
       "The most straightforward solution is to use a third variable to temporarily store one of the old values. e.g.:\n",
       "\n",
       "    tmp = a\n",
       "    a = b\n",
       "    b = tmp\n",
       "\n",
       "If you've read lots of Python code, you might have seen the following trick to swap two variables in one line:\n",
       "\n",
       "    a, b = b, a\n",
       "\n",
       "We'll demystify this bit of Python magic later when we talk about *tuples*."
      ]
     },
     "metadata": {},
     "output_type": "display_data"
    }
   ],
   "source": [
    "########### Setup code - don't touch this part ######################\n",
    "# If you're curious, these are examples of lists. We'll talk about \n",
    "# them in depth a few lessons from now. For now, just know that they're\n",
    "# yet another type of Python object, like int or float.\n",
    "a = [1, 2, 3]\n",
    "b = [3, 2, 1]\n",
    "q2.store_original_ids()\n",
    "######################################################################\n",
    "\n",
    "# Your code goes here. Swap the values to which a and b refer.\n",
    "# If you get stuck, you can always uncomment one or both of the lines in\n",
    "# the next cell for a hint, or to peek at the solution.\n",
    "a,b = b,a\n",
    "######################################################################\n",
    "\n",
    "# Check your answer\n",
    "q2.check()"
   ]
  },
  {
   "cell_type": "code",
   "execution_count": 8,
   "id": "597475c0",
   "metadata": {
    "execution": {
     "iopub.execute_input": "2022-10-06T09:00:26.979054Z",
     "iopub.status.busy": "2022-10-06T09:00:26.978659Z",
     "iopub.status.idle": "2022-10-06T09:00:26.983363Z",
     "shell.execute_reply": "2022-10-06T09:00:26.982373Z"
    },
    "papermill": {
     "duration": 0.015077,
     "end_time": "2022-10-06T09:00:26.985352",
     "exception": false,
     "start_time": "2022-10-06T09:00:26.970275",
     "status": "completed"
    },
    "tags": []
   },
   "outputs": [],
   "source": [
    "#q2.hint()"
   ]
  },
  {
   "cell_type": "code",
   "execution_count": 9,
   "id": "2c7334a6",
   "metadata": {
    "execution": {
     "iopub.execute_input": "2022-10-06T09:00:27.002114Z",
     "iopub.status.busy": "2022-10-06T09:00:27.001482Z",
     "iopub.status.idle": "2022-10-06T09:00:27.005061Z",
     "shell.execute_reply": "2022-10-06T09:00:27.004380Z"
    },
    "papermill": {
     "duration": 0.014473,
     "end_time": "2022-10-06T09:00:27.007050",
     "exception": false,
     "start_time": "2022-10-06T09:00:26.992577",
     "status": "completed"
    },
    "tags": []
   },
   "outputs": [],
   "source": [
    "#q2.solution()"
   ]
  },
  {
   "cell_type": "markdown",
   "id": "5b2a0c23",
   "metadata": {
    "papermill": {
     "duration": 0.009192,
     "end_time": "2022-10-06T09:00:27.023613",
     "exception": false,
     "start_time": "2022-10-06T09:00:27.014421",
     "status": "completed"
    },
    "tags": []
   },
   "source": [
    "<hr/>\n",
    "\n",
    "# 3a.\n",
    "\n",
    "Add parentheses to the following expression so that it evaluates to 1."
   ]
  },
  {
   "cell_type": "code",
   "execution_count": 10,
   "id": "d092644d",
   "metadata": {
    "execution": {
     "iopub.execute_input": "2022-10-06T09:00:27.048107Z",
     "iopub.status.busy": "2022-10-06T09:00:27.047313Z",
     "iopub.status.idle": "2022-10-06T09:00:27.055167Z",
     "shell.execute_reply": "2022-10-06T09:00:27.054053Z"
    },
    "papermill": {
     "duration": 0.020923,
     "end_time": "2022-10-06T09:00:27.057431",
     "exception": false,
     "start_time": "2022-10-06T09:00:27.036508",
     "status": "completed"
    },
    "tags": []
   },
   "outputs": [
    {
     "data": {
      "text/plain": [
       "1"
      ]
     },
     "execution_count": 10,
     "metadata": {},
     "output_type": "execute_result"
    }
   ],
   "source": [
    "(5 - 3) // 2"
   ]
  },
  {
   "cell_type": "code",
   "execution_count": 11,
   "id": "bd3cbd16",
   "metadata": {
    "execution": {
     "iopub.execute_input": "2022-10-06T09:00:27.077604Z",
     "iopub.status.busy": "2022-10-06T09:00:27.076725Z",
     "iopub.status.idle": "2022-10-06T09:00:27.081830Z",
     "shell.execute_reply": "2022-10-06T09:00:27.080651Z"
    },
    "papermill": {
     "duration": 0.017635,
     "end_time": "2022-10-06T09:00:27.084355",
     "exception": false,
     "start_time": "2022-10-06T09:00:27.066720",
     "status": "completed"
    },
    "tags": []
   },
   "outputs": [],
   "source": [
    "#q3.a.hint()"
   ]
  },
  {
   "cell_type": "code",
   "execution_count": 12,
   "id": "e0cdd8dd",
   "metadata": {
    "execution": {
     "iopub.execute_input": "2022-10-06T09:00:27.102731Z",
     "iopub.status.busy": "2022-10-06T09:00:27.101950Z",
     "iopub.status.idle": "2022-10-06T09:00:27.112576Z",
     "shell.execute_reply": "2022-10-06T09:00:27.111410Z"
    },
    "papermill": {
     "duration": 0.022319,
     "end_time": "2022-10-06T09:00:27.114770",
     "exception": false,
     "start_time": "2022-10-06T09:00:27.092451",
     "status": "completed"
    },
    "tags": []
   },
   "outputs": [
    {
     "data": {
      "application/javascript": [
       "parent.postMessage({\"jupyterEvent\": \"custom.exercise_interaction\", \"data\": {\"interactionType\": 3, \"questionType\": 4, \"questionId\": \"3.1_ArithmeticParensEasy\", \"learnToolsVersion\": \"0.3.4\", \"valueTowardsCompletion\": 0.0, \"failureMessage\": \"\", \"exceptionClass\": \"\", \"trace\": \"\", \"outcomeType\": 4}}, \"*\")"
      ],
      "text/plain": [
       "<IPython.core.display.Javascript object>"
      ]
     },
     "metadata": {},
     "output_type": "display_data"
    },
    {
     "data": {
      "text/markdown": [
       "<span style=\"color:#33cc99\">Solution:</span> \n",
       "```python\n",
       "(5 - 3) // 2\n",
       "```"
      ],
      "text/plain": [
       "Solution: \n",
       "```python\n",
       "(5 - 3) // 2\n",
       "```"
      ]
     },
     "metadata": {},
     "output_type": "display_data"
    }
   ],
   "source": [
    "# Check your answer (Run this code cell to receive credit!)\n",
    "q3.a.solution()"
   ]
  },
  {
   "cell_type": "markdown",
   "id": "c07a5be8",
   "metadata": {
    "papermill": {
     "duration": 0.008101,
     "end_time": "2022-10-06T09:00:27.130727",
     "exception": false,
     "start_time": "2022-10-06T09:00:27.122626",
     "status": "completed"
    },
    "tags": []
   },
   "source": [
    "# 3b.  <span title=\"A bit spicy\" style=\"color: darkgreen \">🌶️</span>\n",
    "\n",
    "<small>Questions, like this one, marked a spicy pepper are a bit harder.</small>\n",
    "\n",
    "Add parentheses to the following expression so that it evaluates to 0."
   ]
  },
  {
   "cell_type": "code",
   "execution_count": 13,
   "id": "4aa3e284",
   "metadata": {
    "execution": {
     "iopub.execute_input": "2022-10-06T09:00:27.148236Z",
     "iopub.status.busy": "2022-10-06T09:00:27.147811Z",
     "iopub.status.idle": "2022-10-06T09:00:27.154093Z",
     "shell.execute_reply": "2022-10-06T09:00:27.153285Z"
    },
    "papermill": {
     "duration": 0.017531,
     "end_time": "2022-10-06T09:00:27.156096",
     "exception": false,
     "start_time": "2022-10-06T09:00:27.138565",
     "status": "completed"
    },
    "tags": []
   },
   "outputs": [
    {
     "data": {
      "text/plain": [
       "0"
      ]
     },
     "execution_count": 13,
     "metadata": {},
     "output_type": "execute_result"
    }
   ],
   "source": [
    "8 - 3 * 2 - (1 + 1)"
   ]
  },
  {
   "cell_type": "code",
   "execution_count": 14,
   "id": "b0cc8064",
   "metadata": {
    "execution": {
     "iopub.execute_input": "2022-10-06T09:00:27.173936Z",
     "iopub.status.busy": "2022-10-06T09:00:27.172943Z",
     "iopub.status.idle": "2022-10-06T09:00:27.177757Z",
     "shell.execute_reply": "2022-10-06T09:00:27.176617Z"
    },
    "papermill": {
     "duration": 0.015926,
     "end_time": "2022-10-06T09:00:27.179925",
     "exception": false,
     "start_time": "2022-10-06T09:00:27.163999",
     "status": "completed"
    },
    "tags": []
   },
   "outputs": [],
   "source": [
    "#q3.b.hint()"
   ]
  },
  {
   "cell_type": "code",
   "execution_count": 15,
   "id": "1b59fe4a",
   "metadata": {
    "execution": {
     "iopub.execute_input": "2022-10-06T09:00:27.197511Z",
     "iopub.status.busy": "2022-10-06T09:00:27.196811Z",
     "iopub.status.idle": "2022-10-06T09:00:27.205482Z",
     "shell.execute_reply": "2022-10-06T09:00:27.204441Z"
    },
    "papermill": {
     "duration": 0.019999,
     "end_time": "2022-10-06T09:00:27.207867",
     "exception": false,
     "start_time": "2022-10-06T09:00:27.187868",
     "status": "completed"
    },
    "tags": []
   },
   "outputs": [
    {
     "data": {
      "application/javascript": [
       "parent.postMessage({\"jupyterEvent\": \"custom.exercise_interaction\", \"data\": {\"interactionType\": 3, \"questionType\": 4, \"questionId\": \"3.2_ArithmeticParensHard\", \"learnToolsVersion\": \"0.3.4\", \"valueTowardsCompletion\": 0.0, \"failureMessage\": \"\", \"exceptionClass\": \"\", \"trace\": \"\", \"outcomeType\": 4}}, \"*\")"
      ],
      "text/plain": [
       "<IPython.core.display.Javascript object>"
      ]
     },
     "metadata": {},
     "output_type": "display_data"
    },
    {
     "data": {
      "text/markdown": [
       "<span style=\"color:#33cc99\">Solution:</span> `(8 - 3) * (2 - (1 + 1))` is one solution. There may be others."
      ],
      "text/plain": [
       "Solution: `(8 - 3) * (2 - (1 + 1))` is one solution. There may be others."
      ]
     },
     "metadata": {},
     "output_type": "display_data"
    }
   ],
   "source": [
    "# Check your answer (Run this code cell to receive credit!)\n",
    "q3.b.solution()"
   ]
  },
  {
   "cell_type": "markdown",
   "id": "be436503",
   "metadata": {
    "papermill": {
     "duration": 0.008635,
     "end_time": "2022-10-06T09:00:27.224727",
     "exception": false,
     "start_time": "2022-10-06T09:00:27.216092",
     "status": "completed"
    },
    "tags": []
   },
   "source": [
    "<hr/>\n",
    "\n",
    "# 4. \n",
    "Alice, Bob and Carol have agreed to pool their Halloween candy and split it evenly among themselves.\n",
    "For the sake of their friendship, any candies left over will be smashed. For example, if they collectively\n",
    "bring home 91 candies, they'll take 30 each and smash 1.\n",
    "\n",
    "Write an arithmetic expression below to calculate how many candies they must smash for a given haul."
   ]
  },
  {
   "cell_type": "code",
   "execution_count": 16,
   "id": "e32743e6",
   "metadata": {
    "execution": {
     "iopub.execute_input": "2022-10-06T09:00:27.242885Z",
     "iopub.status.busy": "2022-10-06T09:00:27.242512Z",
     "iopub.status.idle": "2022-10-06T09:00:27.251518Z",
     "shell.execute_reply": "2022-10-06T09:00:27.250520Z"
    },
    "papermill": {
     "duration": 0.020867,
     "end_time": "2022-10-06T09:00:27.253720",
     "exception": false,
     "start_time": "2022-10-06T09:00:27.232853",
     "status": "completed"
    },
    "tags": []
   },
   "outputs": [
    {
     "data": {
      "application/javascript": [
       "parent.postMessage({\"jupyterEvent\": \"custom.exercise_interaction\", \"data\": {\"outcomeType\": 1, \"valueTowardsCompletion\": 0.25, \"interactionType\": 1, \"questionType\": 1, \"questionId\": \"4_CandySplitting\", \"learnToolsVersion\": \"0.3.4\", \"failureMessage\": \"\", \"exceptionClass\": \"\", \"trace\": \"\"}}, \"*\")"
      ],
      "text/plain": [
       "<IPython.core.display.Javascript object>"
      ]
     },
     "metadata": {},
     "output_type": "display_data"
    },
    {
     "data": {
      "text/markdown": [
       "<span style=\"color:#33cc33\">Correct</span>"
      ],
      "text/plain": [
       "Correct"
      ]
     },
     "metadata": {},
     "output_type": "display_data"
    }
   ],
   "source": [
    "# Variables representing the number of candies collected by alice, bob, and carol\n",
    "alice_candies = 121\n",
    "bob_candies = 77\n",
    "carol_candies = 109\n",
    "\n",
    "# Your code goes here! Replace the right-hand side of this assignment with an expression\n",
    "# involving alice_candies, bob_candies, and carol_candies\n",
    "to_smash = (alice_candies + bob_candies + carol_candies) % 3\n",
    "# Check your answer\n",
    "q4.check()"
   ]
  },
  {
   "cell_type": "code",
   "execution_count": 17,
   "id": "6beb407c",
   "metadata": {
    "execution": {
     "iopub.execute_input": "2022-10-06T09:00:27.272173Z",
     "iopub.status.busy": "2022-10-06T09:00:27.271781Z",
     "iopub.status.idle": "2022-10-06T09:00:27.276227Z",
     "shell.execute_reply": "2022-10-06T09:00:27.275050Z"
    },
    "papermill": {
     "duration": 0.016264,
     "end_time": "2022-10-06T09:00:27.278391",
     "exception": false,
     "start_time": "2022-10-06T09:00:27.262127",
     "status": "completed"
    },
    "tags": []
   },
   "outputs": [],
   "source": [
    "#q4.hint()\n",
    "#q4.solution()"
   ]
  },
  {
   "cell_type": "markdown",
   "id": "a12eabc7",
   "metadata": {
    "papermill": {
     "duration": 0.008126,
     "end_time": "2022-10-06T09:00:27.294917",
     "exception": false,
     "start_time": "2022-10-06T09:00:27.286791",
     "status": "completed"
    },
    "tags": []
   },
   "source": [
    "# Keep Going\n",
    "\n",
    "Next up, you'll **[learn to write new functions and understand functions others write](https://www.kaggle.com/colinmorris/functions-and-getting-help)**. This will make you at least 10 times more productive as a Python programmer. "
   ]
  },
  {
   "cell_type": "markdown",
   "id": "25fbaa15",
   "metadata": {
    "papermill": {
     "duration": 0.008512,
     "end_time": "2022-10-06T09:00:27.311874",
     "exception": false,
     "start_time": "2022-10-06T09:00:27.303362",
     "status": "completed"
    },
    "tags": []
   },
   "source": [
    "---\n",
    "\n",
    "\n",
    "\n",
    "\n",
    "*Have questions or comments? Visit the [course discussion forum](https://www.kaggle.com/learn/python/discussion) to chat with other learners.*"
   ]
  }
 ],
 "metadata": {
  "kernelspec": {
   "display_name": "Python 3",
   "language": "python",
   "name": "python3"
  },
  "language_info": {
   "codemirror_mode": {
    "name": "ipython",
    "version": 3
   },
   "file_extension": ".py",
   "mimetype": "text/x-python",
   "name": "python",
   "nbconvert_exporter": "python",
   "pygments_lexer": "ipython3",
   "version": "3.7.12"
  },
  "papermill": {
   "default_parameters": {},
   "duration": 10.051065,
   "end_time": "2022-10-06T09:00:27.942788",
   "environment_variables": {},
   "exception": null,
   "input_path": "__notebook__.ipynb",
   "output_path": "__notebook__.ipynb",
   "parameters": {},
   "start_time": "2022-10-06T09:00:17.891723",
   "version": "2.3.4"
  }
 },
 "nbformat": 4,
 "nbformat_minor": 5
}
